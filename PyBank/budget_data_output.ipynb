{
 "cells": [
  {
   "cell_type": "code",
   "execution_count": 1,
   "metadata": {},
   "outputs": [],
   "source": [
    "#Import Pandas database\n",
    "import os\n",
    "import csv"
   ]
  },
  {
   "cell_type": "code",
   "execution_count": 73,
   "metadata": {
    "scrolled": true
   },
   "outputs": [
    {
     "name": "stdout",
     "output_type": "stream",
     "text": [
      "Finacial Analysis\n",
      "--------------------------------\n",
      "Total Months: 86\n",
      "Total: $37514694\n",
      "Average Change: $-421574.95\n",
      "Greatest Increase in Profits: \n",
      " $0\n",
      "Greatest Decrease in Profits: \n",
      " $0\n"
     ]
    }
   ],
   "source": [
    "import os\n",
    "import csv\n",
    "\n",
    "budget_data = os.path.join('Resources', 'budget_data.csv')\n",
    "row_count = 0\n",
    "total_sum = 0\n",
    "total_change = 0\n",
    "largest_increase = 0\n",
    "largest_decrease = 0\n",
    "\n",
    "with open(budget_data) as csvfile:\n",
    "    budget_csv = csv.reader(csvfile, delimiter = ',')\n",
    "    budget_header = next(budget_csv)\n",
    "    first_row=next(budget_csv)\n",
    "  \n",
    "    row_count+=1\n",
    "  \n",
    "    \n",
    "    \n",
    "    for row in budget_csv:\n",
    "        last_month_val= int(first_row[1]) \n",
    "        \n",
    "        \n",
    "        row_count+=1\n",
    "        total_sum += int(row[1])\n",
    "        total_change += int(row[1]) - last_month_val\n",
    "        last_month_val = int(row[1])\n",
    "\n",
    "         \n",
    "    print(\"Finacial Analysis\")\n",
    "    print(\"--------------------------------\")\n",
    "    print(f'Total Months: {row_count}')\n",
    "    print(f'Total: ${total_sum}')\n",
    "    print(f'Average Change: ${round((total_change/row_count), 2)}')\n",
    "    print(f'Greatest Increase in Profits: \\n ${largest_increase}')\n",
    "    print(f'Greatest Decrease in Profits: \\n ${largest_decrease}')\n",
    "\n",
    "        \n"
   ]
  },
  {
   "cell_type": "code",
   "execution_count": 20,
   "metadata": {},
   "outputs": [
    {
     "ename": "ValueError",
     "evalue": "I/O operation on closed file.",
     "output_type": "error",
     "traceback": [
      "\u001b[1;31m---------------------------------------------------------------------------\u001b[0m",
      "\u001b[1;31mValueError\u001b[0m                                Traceback (most recent call last)",
      "\u001b[1;32m<ipython-input-20-3e045a43105d>\u001b[0m in \u001b[0;36masync-def-wrapper\u001b[1;34m()\u001b[0m\n\u001b[0;32m      3\u001b[0m       \u001b[0mrow_count\u001b[0m\u001b[1;33m+=\u001b[0m\u001b[1;36m1\u001b[0m\u001b[1;33m\u001b[0m\u001b[1;33m\u001b[0m\u001b[0m\n\u001b[0;32m      4\u001b[0m   \u001b[0mprint\u001b[0m\u001b[1;33m(\u001b[0m\u001b[0mrow_count\u001b[0m\u001b[1;33m)\u001b[0m\u001b[1;33m\u001b[0m\u001b[1;33m\u001b[0m\u001b[0m\n\u001b[1;32m----> 5\u001b[1;33m \u001b[1;33m\u001b[0m\u001b[0m\n\u001b[0m",
      "\u001b[1;31mValueError\u001b[0m: I/O operation on closed file."
     ]
    }
   ],
   "source": [
    "  #Find the total months included in the dataset\n",
    "total_months = len(int(budget_data(row)))\n",
    "total_months"
   ]
  },
  {
   "cell_type": "code",
   "execution_count": null,
   "metadata": {},
   "outputs": [],
   "source": []
  },
  {
   "cell_type": "code",
   "execution_count": 4,
   "metadata": {},
   "outputs": [
    {
     "data": {
      "text/plain": [
       "38382578"
      ]
     },
     "execution_count": 4,
     "metadata": {},
     "output_type": "execute_result"
    }
   ],
   "source": [
    "net_total = budget_data_df['Profit/Losses'].sum()\n",
    "net_total"
   ]
  },
  {
   "cell_type": "code",
   "execution_count": 5,
   "metadata": {},
   "outputs": [
    {
     "name": "stdout",
     "output_type": "stream",
     "text": [
      "-2315.1176470588234\n"
     ]
    }
   ],
   "source": [
    "#Creates a loop to calculate the changes int the \"Profit/Losses\" column\n",
    "budget_data_changes = budget_data_df['Profit/Losses'].diff()\n",
    "profit_change = budget_data_changes\n",
    "#Takes the average of those changes\n",
    "print(profit_change.mean())"
   ]
  },
  {
   "cell_type": "code",
   "execution_count": 6,
   "metadata": {},
   "outputs": [
    {
     "data": {
      "text/plain": [
       "1926159.0"
      ]
     },
     "execution_count": 6,
     "metadata": {},
     "output_type": "execute_result"
    }
   ],
   "source": [
    "#Calculates the greatest increase in profits\n",
    "greatest_increase = budget_data_changes.max()\n",
    "greatest_increase  "
   ]
  },
  {
   "cell_type": "code",
   "execution_count": 7,
   "metadata": {},
   "outputs": [
    {
     "data": {
      "text/plain": [
       "-2196167.0"
      ]
     },
     "execution_count": 7,
     "metadata": {},
     "output_type": "execute_result"
    }
   ],
   "source": [
    "#Calculates the greatest decrease in losses\n",
    "greatest_decrease = budget_data_changes.min()\n",
    "greatest_decrease"
   ]
  },
  {
   "cell_type": "code",
   "execution_count": 25,
   "metadata": {},
   "outputs": [
    {
     "name": "stdout",
     "output_type": "stream",
     "text": [
      "Financial Analysis\n",
      "------------------------\n",
      "Total Months: 86\n",
      "Total: $38382578\n",
      "Average Change: $-2315.12\n",
      "Greatest Increase in Profits:\n",
      "Feb-2012 $(1926159)\n",
      "Greastest Decrease in Losses:\n",
      "Sep-2013 $(-2196167)\n"
     ]
    }
   ],
   "source": [
    "#Prints a Finacial Analysis of all the information\n",
    "print(\"Financial Analysis\")\n",
    "print(\"------------------------\")\n",
    "print(f'Total Months: {total_months}')\n",
    "print(f'Total: ${net_total}')\n",
    "print(f'Average Change: ${profit_change.mean().round(2)}')\n",
    "print(f'Greatest Increase in Profits:\\n{increase_date} $({int(greatest_increase)})')\n",
    "print(f'Greastest Decrease in Losses:\\n{decrease_date} $({int(greatest_decrease)})')\n",
    "\n",
    "  "
   ]
  },
  {
   "cell_type": "code",
   "execution_count": 12,
   "metadata": {},
   "outputs": [
    {
     "data": {
      "text/plain": [
       "44   -2196167.0\n",
       "Name: Profit/Losses, dtype: float64"
      ]
     },
     "execution_count": 12,
     "metadata": {},
     "output_type": "execute_result"
    }
   ],
   "source": [
    "budget_data_changes.loc[budget_data_changes == 1926159]\n",
    "budget_data_changes.loc[budget_data_changes == -2196167]"
   ]
  },
  {
   "cell_type": "code",
   "execution_count": 14,
   "metadata": {},
   "outputs": [
    {
     "data": {
      "text/plain": [
       "'Feb-2012'"
      ]
     },
     "execution_count": 14,
     "metadata": {},
     "output_type": "execute_result"
    }
   ],
   "source": [
    "increase_date = budget_data_df['Date'].iloc[25]\n",
    "increase_date\n"
   ]
  },
  {
   "cell_type": "code",
   "execution_count": 15,
   "metadata": {},
   "outputs": [
    {
     "data": {
      "text/plain": [
       "'Sep-2013'"
      ]
     },
     "execution_count": 15,
     "metadata": {},
     "output_type": "execute_result"
    }
   ],
   "source": [
    "decrease_date =budget_data_df['Date'].iloc[44]\n",
    "decrease_date"
   ]
  },
  {
   "cell_type": "code",
   "execution_count": 26,
   "metadata": {},
   "outputs": [
    {
     "ename": "SyntaxError",
     "evalue": "invalid syntax (<ipython-input-26-7ddd26eb5216>, line 5)",
     "output_type": "error",
     "traceback": [
      "\u001b[1;36m  File \u001b[1;32m\"<ipython-input-26-7ddd26eb5216>\"\u001b[1;36m, line \u001b[1;32m5\u001b[0m\n\u001b[1;33m    with open(output_path, 'w', newline='') as datafile:\u001b[0m\n\u001b[1;37m       ^\u001b[0m\n\u001b[1;31mSyntaxError\u001b[0m\u001b[1;31m:\u001b[0m invalid syntax\n"
     ]
    }
   ],
   "source": [
    "#Export data in a text file to /Analysis folder\n",
    "output_path = os.path.join(\"Analysis\",\"pybank.csv\")\n",
    "financial_analysis = zip(total_months, profit_change.mean().round(2), (increase_date, int(greatest_increase)), \n",
    "                                (decrease_date, int(greatest_decrease))    \n",
    "with open(output_path, 'w', newline='') as datafile:\n",
    "    csvwriter = csv.writer(datafile, delimiter=',')\n",
    "    \n",
    "    # Write the first row (column headers)\n",
    "    csvwriter.writerow(['Financial Analysis'])\n",
    "    csvwriter.writerows(financial_analysis)\n",
    "        "
   ]
  },
  {
   "cell_type": "code",
   "execution_count": null,
   "metadata": {},
   "outputs": [],
   "source": []
  }
 ],
 "metadata": {
  "kernelspec": {
   "display_name": "Python [conda env:PythonData] *",
   "language": "python",
   "name": "conda-env-PythonData-py"
  },
  "language_info": {
   "codemirror_mode": {
    "name": "ipython",
    "version": 3
   },
   "file_extension": ".py",
   "mimetype": "text/x-python",
   "name": "python",
   "nbconvert_exporter": "python",
   "pygments_lexer": "ipython3",
   "version": "3.6.10"
  }
 },
 "nbformat": 4,
 "nbformat_minor": 4
}
